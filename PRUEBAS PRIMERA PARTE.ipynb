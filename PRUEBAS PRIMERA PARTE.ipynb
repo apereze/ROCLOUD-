{
 "cells": [
  {
   "cell_type": "code",
   "execution_count": 4,
   "id": "7afb622a",
   "metadata": {},
   "outputs": [],
   "source": [
    "import pandas as pd\n",
    "import netCDF4 as nc\n",
    "import numpy as np\n",
    "import cv2\n",
    "import os\n",
    "import errno\n",
    "import geopandas as gpd\n",
    "import time\n",
    "from pyproj import Geod\n",
    "from shapely.geometry import shape, Polygon, Point, MultiPoint, box"
   ]
  },
  {
   "cell_type": "code",
   "execution_count": 5,
   "id": "a3193787",
   "metadata": {},
   "outputs": [],
   "source": [
    "# LIBRERIAS CREADAS\n",
    "def crear_carp(direccion):\n",
    "    try:\n",
    "        os.mkdir(direccion)\n",
    "    except OSError as e:\n",
    "        if e.errno != errno.EEXIST:\n",
    "            raise\n",
    "\n",
    "def data_lec(direccion,datos):\n",
    "    names = ['date', 'time', 'lat', 'lon', 'MWS', 'CPSL','ERMWS', 'R34', 'R50', 'R64', 'R100', 'R']\n",
    "    return pd.read_csv(direccion+'/'+datos, sep=\",\", skip_blank_lines=True, header = None, names = names)\n",
    "\n",
    "def formato_fecha(df1):\n",
    "    df = pd.to_datetime(df1['date'], format='%Y%m%d').apply(lambda x: pd.Series([x.year,x.month,x.day], index = ['yy', 'mm', 'dd']))\n",
    "    return pd.concat([df,df1], axis = 1)\n",
    "\n",
    "def formato_hora(df):\n",
    "    return df.assign(time = (df['time']/100).astype(int))\n",
    "\n",
    "def cambiar_sufijos(lon1):\n",
    "    if lon1[-1] == 'W':\n",
    "        lon1 = lon1.replace(\"W\",\"\")\n",
    "        lon1 = float(lon1) * -1\n",
    "    else:\n",
    "        lon1 = lon1.replace(\"E\",\"\").replace(\"N\",\"\")\n",
    "        lon1 = float(lon1)\n",
    "    return lon1\n",
    "\n",
    "def abrir_imagen(timestamp):\n",
    "    ir_image = nc.Dataset('D:/IR/merg_'+ timestamp +'_4km-pixel.nc4.nc4')\n",
    "    return np.array(ir_image.variables['Tb'][0,:,:] - 273.15)\n",
    "\n",
    "def correccion_valor_minimo(image):\n",
    "    temp_min = np.min(image[np.where(image != np.min(image))])\n",
    "    image[np.where(image == np.min(image))] = temp_min - 1\n",
    "    return image \n",
    "\n",
    "def binarizar_imagen(img, umbral: float):\n",
    "    imagen = img.copy()\n",
    "    pixel_mayor_umbral = np.where(imagen>umbral)\n",
    "    pixel_valor_nulo = np.where(imagen == np.min(imagen))\n",
    "    imagen[pixel_mayor_umbral or pixel_valor_nulo] = 0\n",
    "    pixel_valido = np.where(imagen != 0)\n",
    "    imagen[pixel_valido] = 255\n",
    "    return imagen\n",
    "\n",
    "def crear_circulo(centro, radio):\n",
    "    angulo = np.arange(0,np.pi*2,0.01)\n",
    "    coor_x = radio*np.cos(angulo)+centro[0]\n",
    "    coor_y = radio*np.sin(angulo)+centro[1]\n",
    "    return (coor_x,coor_y)\n",
    "\n",
    "def poligono_circulo(coordenadas): \n",
    "    return Polygon(list(zip(coordenadas[0],coordenadas[1])))\n",
    "\n",
    "def contornos_numpy(array):\n",
    "    nubM = []\n",
    "    for c in array: nubM.append(c[0].tolist())\n",
    "    return np.array(nubM)\n",
    "\n",
    "def convcoor(nube, dlat= 0.036388397, dlon = 0.036392212):\n",
    "    lonc1 = np.round(np.transpose(((dlon*nube[:,0])-130)),2)\n",
    "    latc1 = np.round((dlat*nube[:,1]),2)\n",
    "    return list(zip(lonc1,latc1))\n",
    "\n",
    "def gdf_conver(gdf):\n",
    "    \"\"\" Función para convertir una serie de datos al crs EPSG:4326, que\n",
    "    representa una proyección geografica WGS84\"\"\"\n",
    "    return gpd.GeoDataFrame(index=[0], crs='EPSG:4326', geometry=[gdf])\n",
    "\n",
    "def gdf_explode(gdf):\n",
    "    \"\"\" Separación (explode) de una GeoDataFrame en columnas\"\"\"\n",
    "    return gdf.explode().reset_index(drop=True).rename(columns={0: 'geometry'})\n",
    "\n",
    "def rectificacion(selcon,ctpos,r,polyar):\n",
    "    rec_inf = Polygon([(-130,0),(-130,15),(-10,15),(-10,0)]) #itcz\n",
    "    a = rec_inf.intersects(polyar)\n",
    "    pol_cast = Polygon([(-130,0),(-130,15),(ctpos[0]-r,15),(ctpos[0]-r,ctpos[1]-r),\n",
    "                        (ctpos[0]+r,ctpos[1]-r),(ctpos[0]+r,15),(-10,15),(-10,0)])\n",
    "    pol_cast = gpd.GeoDataFrame(index=[0], crs='EPSG:4326', geometry=[pol_cast])\n",
    "    if a == True:\n",
    "        filtro2 = gpd.overlay(selcon, pol_cast, how='difference')\n",
    "        return filtro2\n",
    "    else:\n",
    "        if ctpos[1] > 15:\n",
    "            pol_cast = Polygon([(-130,0),(-130,15.1),(ctpos[0]-r,15.1),(ctpos[0]-r,ctpos[1]-r),\n",
    "                        (ctpos[0]+r,ctpos[1]-r),(ctpos[0]+r,15.1),(-10,15.1),(-10,0)])\n",
    "            pol_cast = gpd.GeoDataFrame(index=[0], crs='EPSG:4326', geometry=[pol_cast])\n",
    "            filtro2 = gpd.overlay(selcon, pol_cast, how='difference')\n",
    "            return filtro2\n",
    "        else:\n",
    "            return selcon\n",
    "        \n",
    "def correccion_por_df_vacio(df, data):\n",
    "    if df.empty:\n",
    "        df['geometry'] = None\n",
    "        df['ID']= (np.ones(df.shape[0])*i).astype(int)\n",
    "        return df\n",
    "    else:\n",
    "        result = rectificacion(df,data.center_position[i],data.R[i]/111.1, data.poly_rout[i])\n",
    "        result['ID']= (np.ones(result.shape[0])*i).astype(int)\n",
    "        result = gdf_explode(result)\n",
    "        indx = result['geometry'].apply(lambda nube: nube.intersects(data.poly_rout[i]))\n",
    "        return result[indx]\n",
    "\n",
    "def each6h(df):\n",
    "    df = df.loc[(df.time == 0)|(df.time == 12)|(df.time == 18)|(df.time == 6)].reset_index(drop=True)\n",
    "    return df\n"
   ]
  },
  {
   "cell_type": "code",
   "execution_count": 6,
   "id": "983100b9",
   "metadata": {},
   "outputs": [
    {
     "name": "stdout",
     "output_type": "stream",
     "text": [
      "Nombre de la cuenca: NA\n"
     ]
    }
   ],
   "source": [
    "cuenca = input(\"Nombre de la cuenca: \")\n",
    "direccion_database = 'D:/'+cuenca+'_complete'"
   ]
  },
  {
   "cell_type": "code",
   "execution_count": 7,
   "id": "dd37fbf6",
   "metadata": {},
   "outputs": [],
   "source": [
    "crear_carp(direccion_database)\n",
    "lista = pd.read_csv('D:/listado'+cuenca+'.dat', header =  None)"
   ]
  },
  {
   "cell_type": "code",
   "execution_count": 8,
   "id": "88975e49",
   "metadata": {},
   "outputs": [],
   "source": [
    "data = data_lec('D:/S7/'+cuenca,'AL012010.dat')"
   ]
  },
  {
   "cell_type": "code",
   "execution_count": 9,
   "id": "37a04265",
   "metadata": {},
   "outputs": [],
   "source": [
    "TC = (data\n",
    "     .pipe(formato_fecha)\n",
    "     .pipe(formato_hora)\n",
    "     .assign(lon = data.lon.apply(lambda lon: cambiar_sufijos(lon)))\n",
    "     .assign(lat = data.lat.apply(lambda lat: cambiar_sufijos(lat)))\n",
    "     .drop(columns = ['CPSL','ERMWS','R50','R64','R100'])\n",
    "     )\n",
    "TC_concat = TC.copy()"
   ]
  },
  {
   "cell_type": "code",
   "execution_count": 10,
   "id": "8aad4b9c",
   "metadata": {},
   "outputs": [],
   "source": [
    "from pyproj import Transformer\n",
    "transformer = Transformer.from_crs(4326, 3857, always_xy=True)"
   ]
  },
  {
   "cell_type": "code",
   "execution_count": 11,
   "id": "c43cedbc",
   "metadata": {},
   "outputs": [],
   "source": [
    "timestamp = (TC_concat[['yy','mm','dd','time']]\n",
    "             .astype('str')\n",
    "             .apply(lambda x: x[0]+ x[1].zfill(2) + x[2].zfill(2) + x[3].zfill(2), axis = 1))\n",
    "center_position = TC_concat[['lon','lat']].apply(lambda x: [x[0],x[1]], axis = 1)"
   ]
  },
  {
   "cell_type": "code",
   "execution_count": 12,
   "id": "aecfc6d7",
   "metadata": {},
   "outputs": [],
   "source": [
    "TC_concat = TC_concat.assign(timestamp = timestamp).assign(center_position = center_position).pipe(each6h)\n",
    "TC_concat['poly_rout'] = (TC_concat[['center_position','R']]\n",
    "                          .apply(lambda x: crear_circulo(x[0], x[1]/111.1),axis = 1)\n",
    "                          .apply(poligono_circulo)\n",
    "                         )\n"
   ]
  },
  {
   "cell_type": "code",
   "execution_count": 13,
   "id": "56430e89",
   "metadata": {},
   "outputs": [],
   "source": [
    "x = []\n",
    "for pt in transformer.itransform(TC_concat.center_position.to_numpy()):\n",
    "    x.append(pt)\n",
    "TC_concat = TC_concat.assign(ctpos_utm = x)"
   ]
  },
  {
   "cell_type": "code",
   "execution_count": 14,
   "id": "f7ef5e31",
   "metadata": {},
   "outputs": [],
   "source": [
    "def contornos_df(array):\n",
    "    np.warnings.filterwarnings('ignore', category=np.VisibleDeprecationWarning)\n",
    "    return pd.DataFrame(array, columns = ['array'])"
   ]
  },
  {
   "cell_type": "code",
   "execution_count": 15,
   "id": "7ce05199",
   "metadata": {},
   "outputs": [],
   "source": [
    "data_base = gpd.GeoDataFrame(columns = ['geometry', 'ID'], crs = 'epsg:4326')\n",
    "for i in range(TC_concat.shape[0]): \n",
    "    IR_img = abrir_imagen(TC_concat.timestamp[i])\n",
    "    pic1 = IR_img.copy()\n",
    "    IR_img_corregida = correccion_valor_minimo(pic1)\n",
    "    IR_img_binarizada = binarizar_imagen(IR_img_corregida, -40)\n",
    "    (contornos,_) = cv2.findContours(np.uint8(IR_img_binarizada), cv2.RETR_EXTERNAL, cv2.CHAIN_APPROX_SIMPLE)\n",
    "    df_contornos = contornos_df(contornos)\n",
    "    df_contornos['len'] = df_contornos.array.apply(lambda x: len(x))\n",
    "    df_contornos_sel = df_contornos[df_contornos.len > 10]\n",
    "    selcon = df_contornos_sel.array.apply(lambda x: contornos_numpy(x)).to_frame(name = 'geometry')\n",
    "    selcon['geometry'] = selcon['geometry'].apply(convcoor).apply(Polygon)\n",
    "    selcon = gpd.GeoDataFrame(selcon,geometry='geometry',crs='EPSG:4326')\n",
    "    contornos_dentro_campo_vientos = (selcon[selcon['geometry']\n",
    "                                             .apply(lambda nube: nube.intersects(TC_concat.poly_rout[i]))])\n",
    "    contornos_corregidos = correccion_por_df_vacio(contornos_dentro_campo_vientos, TC_concat)\n",
    "    \n",
    "    data_base = pd.concat([data_base,contornos_corregidos], axis=0).reset_index(drop=True)\n",
    "    \n",
    "    "
   ]
  },
  {
   "cell_type": "code",
   "execution_count": 16,
   "id": "ebec74df",
   "metadata": {},
   "outputs": [],
   "source": [
    "def seleccionar_poligonos_800_km_2(data):\n",
    "    data_base['area'] = data_base['geometry'].apply(areapoly)\n",
    "    polygons = data_base.loc[data_base['area']>= 800].reset_index(drop= True)\n",
    "    return polygons\n",
    "\n",
    "def areapoly(geom):\n",
    "    \"\"\"Calculo del area de un poligono con valores en Km^2\"\"\"\n",
    "    geod = Geod(ellps=\"WGS84\")\n",
    "    area = abs(geod.geometry_area_perimeter(geom)[0])/1e+6\n",
    "    return area"
   ]
  },
  {
   "cell_type": "code",
   "execution_count": 17,
   "id": "a03c81d8",
   "metadata": {},
   "outputs": [],
   "source": [
    "def multipoint(x, points2):\n",
    "    \"\"\"Conversión de un shape en formato multipoint\"\"\"\n",
    "    y = points2.index[(points2['geometry']) == x][0]\n",
    "    prueba = type(shape(points2['geometry'].iloc[y])) is Polygon\n",
    "    if prueba is True:\n",
    "        pnts = MultiPoint(list(x.exterior.coords))\n",
    "    else:\n",
    "        pnts = MultiPoint(list(shape(x).coords))\n",
    "    return pnts"
   ]
  },
  {
   "cell_type": "code",
   "execution_count": 18,
   "id": "b7ba54e0",
   "metadata": {},
   "outputs": [],
   "source": [
    "db_poligonos = data_base.pipe(seleccionar_poligonos_800_km_2)"
   ]
  },
  {
   "cell_type": "code",
   "execution_count": 19,
   "id": "85dfb747",
   "metadata": {},
   "outputs": [],
   "source": [
    "def puntos(ID):\n",
    "    prueba = gb[gb.ID.eq(0)].reset_index(drop=True)\n",
    "    prueba['geometry'] = prueba.geometry.apply(multipoint, args=(prueba,))\n",
    "    return prueba.pipe(gdf_explode)"
   ]
  },
  {
   "cell_type": "code",
   "execution_count": 20,
   "id": "a7c4c9ff",
   "metadata": {},
   "outputs": [],
   "source": [
    "def intento(df):\n",
    "    df.assign(x = df.geometry.apply(lambda punto: punto.x)).assign(y = df.geometry.apply(lambda punto: punto.y))\n",
    "    y = []\n",
    "    for pt in transformer.itransform(dff.geometry.apply(lambda punto: [punto.x,punto.y])):\n",
    "        y.append(pt)\n",
    "    return dff.assign(ctpos_utm = y)"
   ]
  },
  {
   "cell_type": "code",
   "execution_count": 21,
   "id": "8b9b310f",
   "metadata": {},
   "outputs": [],
   "source": [
    "def promedio_si(x):\n",
    "    return x[x > 0].mean()"
   ]
  },
  {
   "cell_type": "code",
   "execution_count": 22,
   "id": "ef4575d9",
   "metadata": {},
   "outputs": [
    {
     "name": "stdout",
     "output_type": "stream",
     "text": [
      "0\n",
      "1\n",
      "2\n",
      "3\n",
      "4\n",
      "5\n",
      "6\n",
      "7\n",
      "8\n",
      "9\n",
      "10\n",
      "11\n",
      "12\n",
      "13\n",
      "14\n",
      "15\n",
      "16\n",
      "17\n",
      "18\n",
      "19\n",
      "20\n",
      "21\n",
      "22\n",
      "23\n",
      "24\n",
      "25\n",
      "26\n",
      "27\n",
      "28\n",
      "29\n"
     ]
    }
   ],
   "source": [
    "radios = TC_concat[['lon','lat','center_position','ctpos_utm']].reset_index(drop = False)\n",
    "gb = db_poligonos.groupby('ID').apply(lambda x: gdf_explode(x))\n",
    "for index in radios.index:\n",
    "    prueba = gb.copy().loc[index,:]\n",
    "    prueba['geometry'] = prueba.geometry.apply(multipoint, args=(prueba,))\n",
    "\n",
    "    df = prueba.pipe(gdf_explode)\n",
    "    if TC_concat.lat[index] <= 35:\n",
    "        try:\n",
    "            dff = (df\n",
    "                   .assign(x = df.geometry.apply(lambda punto: punto.x))\n",
    "                   .assign(y = df.geometry.apply(lambda punto: punto.y)))\n",
    "            y = []\n",
    "            for pt in transformer.itransform(dff.geometry.apply(lambda punto: [punto.x,punto.y])):\n",
    "                y.append(pt)\n",
    "            dff = dff.assign(ctpos_utm = y)\n",
    "            \n",
    "            dff_ne = dff[dff.x.ge(TC_concat.lon[index]) & dff.y.ge(TC_concat.lat[index])]\n",
    "            dff_no = dff[dff.x.le(TC_concat.lon[index]) & dff.y.ge(TC_concat.lat[index])]\n",
    "            dff_so = dff[dff.x.le(TC_concat.lon[index]) & dff.y.le(TC_concat.lat[index])]\n",
    "            dff_se = dff[dff.x.ge(TC_concat.lon[index]) & dff.y.le(TC_concat.lat[index])]\n",
    "\n",
    "            distancia_km = lambda x: Point(x).distance(Point(TC_concat.ctpos_utm[index]))\n",
    "            radios.loc[index, 'rne_km'] = dff_ne['ctpos_utm'].apply(distancia_km).div(1000).round(2).max()\n",
    "            radios.loc[index, 'rno_km'] = dff_no['ctpos_utm'].apply(distancia_km).div(1000).round(2).max()\n",
    "            radios.loc[index, 'rso_km'] = dff_so['ctpos_utm'].apply(distancia_km).div(1000).round(2).max()\n",
    "            radios.loc[index, 'rse_km'] = dff_se['ctpos_utm'].apply(distancia_km).div(1000).round(2).max()\n",
    "\n",
    "            distancia_grados = lambda x: x.distance(Point(TC_concat.center_position[index]))\n",
    "            radios.loc[index, 'rne_g'] = dff_ne['geometry'].apply(distancia_grados).max().round(1)\n",
    "            radios.loc[index, 'rno_g'] = dff_no['geometry'].apply(distancia_grados).max().round(1)\n",
    "            radios.loc[index, 'rso_g'] = dff_so['geometry'].apply(distancia_grados).max().round(1)\n",
    "            radios.loc[index, 'rse_g'] = dff_se['geometry'].apply(distancia_grados).max().round(1)\n",
    "        except: \n",
    "            radios.loc[index, 'rne_km'] = -99999\n",
    "            radios.loc[index, 'rno_km'] = -99999\n",
    "            radios.loc[index, 'rso_km'] = -99999\n",
    "            radios.loc[index, 'rse_km'] = -99999\n",
    "            radios.loc[index, 'rne_g'] = -99999\n",
    "            radios.loc[index, 'rno_g'] = -99999\n",
    "            radios.loc[index, 'rso_g'] = -99999\n",
    "            radios.loc[index, 'rse_g'] = -99999\n",
    "\n",
    "    else:\n",
    "        radios.loc[index, 'rne_km'] = -99999\n",
    "        radios.loc[index, 'rno_km'] = -99999\n",
    "        radios.loc[index, 'rso_km'] = -99999\n",
    "        radios.loc[index, 'rse_km'] = -99999\n",
    "        radios.loc[index, 'rne_g'] = -99999\n",
    "        radios.loc[index, 'rno_g'] = -99999\n",
    "        radios.loc[index, 'rso_g'] = -99999\n",
    "        radios.loc[index, 'rse_g'] = -99999\n",
    "        \n",
    "    print(index)"
   ]
  },
  {
   "cell_type": "code",
   "execution_count": 23,
   "id": "29c47012",
   "metadata": {},
   "outputs": [],
   "source": [
    "radios['rp_km'] = radios[['rne_km','rno_km','rso_km','rse_km']].apply(lambda x: promedio_si(x), axis =1).round(2)\n",
    "radios['rp_g'] = radios[['rne_g','rno_g','rso_g','rse_g']].apply(lambda x: promedio_si(x), axis =1).round(1)"
   ]
  },
  {
   "cell_type": "code",
   "execution_count": 24,
   "id": "329be757",
   "metadata": {},
   "outputs": [],
   "source": [
    "## 6.1 Asimetría\n",
    "def assym(data):\n",
    "    return np.round(data[['rne_km','rno_km','rso_km','rse_km']].apply(\n",
    "                     lambda x: (x.max()-x.min())/x.max(),axis=1),2)\n",
    "## 6.2 Dispersion\n",
    "def disp(ct,poly):\n",
    "    poly_fit = poly.reset_index(drop=True)\n",
    "    Ai = poly_fit.groupby(['ID']).sum().loc[:, 'area']\n",
    "    poly_fit['centroid'] = poly_fit['geometry'].to_crs('epsg:3785').centroid.to_crs(poly_fit['geometry'].crs)\n",
    "    poly_fit['ctpos'] = poly_fit['ID'].apply(lambda i: Point(ct['lon'][i], ct['lat'][i]))\n",
    "    poly_fit['Aid'] = poly_fit['ID'].apply(lambda x: Ai[x])\n",
    "    r_cent = poly_fit[['centroid','ctpos']].apply(lambda x: distancia(x[0] ,x[1]),axis =1)\n",
    "    r_cuad = poly_fit[['centroid','ctpos','ID']].apply(lambda x: cuad(ct,x[0],x[1],x[2]), axis=1)\n",
    "    poly_fit['rc/r'] = r_cent/r_cuad\n",
    "    poly_fit['Ai/Aid'] = poly_fit[['area','Aid']].apply(lambda x: x[0]/x[1], axis =1)\n",
    "    poly_fit['A'] = poly_fit['rc/r'] *poly_fit['Ai/Aid']\n",
    "    return np.round(poly_fit.groupby(['ID']).sum().loc[:, 'A'],2)\n",
    "\n",
    "def distancia(psel,center):\n",
    "    d = center.distance(psel)*111.11\n",
    "    return d\n",
    "def cuad(df,cent, ctpp,i):\n",
    "    cuadrantes = ['rne_km','rno_km','rso_km','rse_km']\n",
    "    boxes = [box(ctpp.x,ctpp.y,-10,40),box(ctpp.x,ctpp.y,-130,40),\n",
    "             box(ctpp.x,ctpp.y,-130,0), box(ctpp.x,ctpp.y,-10,0)]\n",
    "    for ind,b in enumerate(boxes):\n",
    "        if b.contains(cent) == True:\n",
    "            radios = cuadrantes[ind]\n",
    "            return df[cuadrantes[ind]].loc[i]\n",
    "## 6.3 Solidez\n",
    "def soli(df,pol):\n",
    "    Ax = df[['lon','lat','rne_km','rno_km','rso_km','rse_km']].apply(\n",
    "        lambda x: polyarc(x[0],x[1],x[2],x[3],x[4],x[5]), axis=1)\n",
    "    Ai = pol.groupby(['ID']).sum().loc[:, 'area']\n",
    "    return np.round(Ai/Ax,2)\n",
    "\n",
    "def ctfield(r1,r2,r3,r4,c):\n",
    "    ang = [np.arange(0,np.pi/2,0.01), np.arange(np.pi/2,np.pi,0.01),\n",
    "           np.arange(np.pi,(3/2)*np.pi,0.01),np.arange((3/2)*np.pi,2*np.pi,0.01)]\n",
    "    grafx, grafy = [], []\n",
    "    for i,r in enumerate([r1,r2,r3,r4]):\n",
    "        grafx.append(r*np.cos(ang[i])+c[0])\n",
    "        grafy.append(r*np.sin(ang[i])+c[1])\n",
    "    return (np.concatenate(grafx, axis = 0),np.concatenate(grafy, axis = 0))\n",
    "\n",
    "def polyarc(lon,lat,r1,r2,r3,r4):\n",
    "    ctpos = [lon,lat]\n",
    "    u=111.1\n",
    "    arc = ctfield(r1/u,r2/u,r3/u,r4/u,ctpos)\n",
    "    polyar = Polygon(list(zip(arc[0],arc[1])))\n",
    "    area = areapoly(polyar)\n",
    "    return area\n"
   ]
  },
  {
   "cell_type": "code",
   "execution_count": 25,
   "id": "a9c18048",
   "metadata": {},
   "outputs": [],
   "source": [
    "radios['A'] = assym(radios)\n",
    "radios['D'] = disp(radios,gb)\n",
    "radios['S'] = soli(radios,gb.reset_index(drop=True))"
   ]
  },
  {
   "cell_type": "code",
   "execution_count": 26,
   "id": "2a7cb093",
   "metadata": {},
   "outputs": [],
   "source": [
    "tabla_semifinal = TC_concat.iloc[:,[3,4,5,6,7]].join(radios.iloc[:, 5:])"
   ]
  },
  {
   "cell_type": "code",
   "execution_count": 27,
   "id": "a9ddad75",
   "metadata": {},
   "outputs": [],
   "source": [
    "from rain_lib import *"
   ]
  },
  {
   "cell_type": "code",
   "execution_count": null,
   "id": "99182d50",
   "metadata": {},
   "outputs": [],
   "source": []
  }
 ],
 "metadata": {
  "kernelspec": {
   "display_name": "Python 3 (ipykernel)",
   "language": "python",
   "name": "python3"
  },
  "language_info": {
   "codemirror_mode": {
    "name": "ipython",
    "version": 3
   },
   "file_extension": ".py",
   "mimetype": "text/x-python",
   "name": "python",
   "nbconvert_exporter": "python",
   "pygments_lexer": "ipython3",
   "version": "3.9.7"
  }
 },
 "nbformat": 4,
 "nbformat_minor": 5
}
