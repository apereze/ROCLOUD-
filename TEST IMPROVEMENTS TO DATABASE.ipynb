{
 "cells": [
  {
   "cell_type": "code",
   "execution_count": 1,
   "id": "9f5544ea",
   "metadata": {},
   "outputs": [],
   "source": [
    "#..............................................................................#\n",
    "#                          LIBRERIAS NECESARIAS                                #\n",
    "#..............................................................................#\n",
    "import pandas as pd\n",
    "import netCDF4 as nc\n",
    "import numpy as np\n",
    "import cv2\n",
    "import os\n",
    "import errno\n",
    "import geopandas as gpd\n",
    "import time\n",
    "from pyproj import Geod\n",
    "from shapely.geometry import shape, Polygon, Point, MultiPoint, box"
   ]
  },
  {
   "cell_type": "code",
   "execution_count": 6,
   "id": "40bfabc1",
   "metadata": {},
   "outputs": [
    {
     "name": "stdout",
     "output_type": "stream",
     "text": [
      "Nombre de la cuenca: NA\n"
     ]
    }
   ],
   "source": [
    "cuenca = input(\"Nombre de la cuenca: \")\n",
    "direccion_database = 'D:/'+cuenca+'_complete'"
   ]
  },
  {
   "cell_type": "code",
   "execution_count": 3,
   "id": "c9d5b0dc",
   "metadata": {},
   "outputs": [],
   "source": [
    "def crear_carp(direccion):\n",
    "    try:\n",
    "        os.mkdir(direccion)\n",
    "    except OSError as e:\n",
    "        if e.errno != errno.EEXIST:\n",
    "            raise"
   ]
  },
  {
   "cell_type": "code",
   "execution_count": 7,
   "id": "d3f5945e",
   "metadata": {},
   "outputs": [],
   "source": [
    "crear_carp(direccion_database)\n",
    "lista = pd.read_csv('D:/listado'+cuenca+'.dat', header =  None)\n"
   ]
  },
  {
   "cell_type": "code",
   "execution_count": 57,
   "id": "f2ce6306",
   "metadata": {},
   "outputs": [],
   "source": [
    "def data_lec(direccion,datos):\n",
    "    names = ['date', 'time', 'lat', 'lon', 'MWS', 'CPSL','ERMWS', 'R34', 'R50', 'R64', 'R100', 'R']\n",
    "    return pd.read_csv(direccion+'/'+datos, sep=\",\", skip_blank_lines=True, header = None, names = names)"
   ]
  },
  {
   "cell_type": "code",
   "execution_count": 59,
   "id": "d21e40f6",
   "metadata": {},
   "outputs": [
    {
     "name": "stdout",
     "output_type": "stream",
     "text": [
      "AL012000.dat\n",
      "AL012001.dat\n",
      "AL012004.dat\n",
      "AL012005.dat\n",
      "AL012006.dat\n",
      "AL012007.dat\n",
      "AL012008.dat\n",
      "AL012009.dat\n",
      "AL012010.dat\n",
      "AL012011.dat\n",
      "AL012012.dat\n",
      "AL012013.dat\n",
      "AL012014.dat\n",
      "AL012015.dat\n",
      "AL012016.dat\n",
      "AL012018.dat\n",
      "AL012020.dat\n",
      "AL022002.dat\n",
      "AL022004.dat\n",
      "AL022005.dat\n",
      "AL022007.dat\n",
      "AL022010.dat\n",
      "AL022011.dat\n",
      "AL022012.dat\n",
      "AL022013.dat\n",
      "AL022015.dat\n",
      "AL022016.dat\n",
      "AL022018.dat\n",
      "AL022019.dat\n",
      "AL032001.dat\n",
      "AL032002.dat\n",
      "AL032003.dat\n",
      "AL032004.dat\n",
      "AL032005.dat\n",
      "AL032010.dat\n",
      "AL032014.dat\n",
      "AL032016.dat\n",
      "AL032017.dat\n",
      "AL032018.dat\n",
      "AL032019.dat\n",
      "AL032020.dat\n",
      "AL042000.dat\n",
      "AL042001.dat\n",
      "AL042003.dat\n",
      "AL042005.dat\n",
      "AL042006.dat\n",
      "AL042007.dat\n",
      "AL042008.dat\n",
      "AL042009.dat\n",
      "AL042011.dat\n",
      "AL042012.dat\n",
      "AL042013.dat\n",
      "AL042014.dat\n",
      "AL042016.dat\n",
      "AL052000.dat\n",
      "AL052001.dat\n",
      "AL052002.dat\n",
      "AL052005.dat\n",
      "AL052007.dat\n",
      "AL052008.dat\n",
      "AL052009.dat\n",
      "AL052010.dat\n",
      "AL052011.dat\n",
      "AL052012.dat\n",
      "AL052014.dat\n",
      "AL052016.dat\n",
      "AL052019.dat\n",
      "AL062002.dat\n",
      "AL062004.dat\n",
      "AL062005.dat\n",
      "AL062006.dat\n",
      "AL062007.dat\n",
      "AL062008.dat\n",
      "AL062013.dat\n",
      "AL062017.dat\n",
      "AL062018.dat\n",
      "AL062019.dat\n",
      "AL062020.dat\n",
      "AL072000.dat\n",
      "AL072003.dat\n",
      "AL072004.dat\n",
      "AL072005.dat\n",
      "AL072007.dat\n",
      "AL072008.dat\n",
      "AL072010.dat\n",
      "AL072012.dat\n",
      "AL072017.dat\n",
      "AL072018.dat\n",
      "AL072019.dat\n",
      "AL082001.dat\n",
      "AL082002.dat\n",
      "AL082003.dat\n",
      "AL082008.dat\n",
      "AL082011.dat\n",
      "AL082013.dat\n",
      "AL082017.dat\n",
      "AL082020.dat\n",
      "AL092000.dat\n",
      "AL092001.dat\n",
      "AL092002.dat\n",
      "AL092004.dat\n",
      "AL092007.dat\n",
      "AL092008.dat\n",
      "AL092011.dat\n",
      "AL092012.dat\n",
      "AL092014.dat\n",
      "AL092016.dat\n",
      "AL092017.dat\n",
      "AL092019.dat\n",
      "AL092020.dat\n",
      "AL102000.dat\n",
      "AL102002.dat\n",
      "AL102007.dat\n",
      "AL102009.dat\n",
      "AL102010.dat\n",
      "AL102013.dat\n",
      "AL112000.dat\n",
      "AL112001.dat\n",
      "AL112003.dat\n",
      "AL112004.dat\n",
      "AL112005.dat\n",
      "AL112009.dat\n",
      "AL112015.dat\n",
      "AL112016.dat\n",
      "AL112017.dat\n",
      "AL112019.dat\n",
      "AL122000.dat\n",
      "AL122002.dat\n",
      "AL122003.dat\n",
      "AL122005.dat\n",
      "AL122013.dat\n",
      "AL122015.dat\n",
      "AL122017.dat\n",
      "AL132002.dat\n",
      "AL132003.dat\n",
      "AL132007.dat\n",
      "AL132008.dat\n",
      "AL132010.dat\n",
      "AL132011.dat\n",
      "AL132017.dat\n",
      "AL132020.dat\n",
      "AL142002.dat\n",
      "AL142004.dat\n",
      "AL142016.dat\n",
      "AL142018.dat\n",
      "AL142020.dat\n",
      "AL152000.dat\n",
      "AL152001.dat\n",
      "AL152010.dat\n",
      "AL152011.dat\n",
      "AL152017.dat\n",
      "AL152020.dat\n",
      "AL162000.dat\n",
      "AL162005.dat\n",
      "AL162007.dat\n",
      "AL162008.dat\n",
      "AL162010.dat\n",
      "AL162012.dat\n",
      "AL162016.dat\n",
      "AL162017.dat\n",
      "AL162019.dat\n",
      "AL162020.dat\n",
      "AL172000.dat\n",
      "AL172003.dat\n",
      "AL172007.dat\n",
      "AL172008.dat\n",
      "AL172019.dat\n",
      "AL182003.dat\n",
      "AL182005.dat\n",
      "AL182010.dat\n",
      "AL182011.dat\n",
      "AL182012.dat\n",
      "AL182017.dat\n",
      "AL192000.dat\n",
      "AL192010.dat\n",
      "AL192011.dat\n",
      "AL192020.dat\n",
      "AL202003.dat\n",
      "AL202005.dat\n",
      "AL212010.dat\n",
      "AL222005.dat\n",
      "AL222020.dat\n",
      "AL252005.dat\n",
      "AL252020.dat\n",
      "AL262005.dat\n",
      "AL262020.dat\n",
      "AL272005.dat\n",
      "AL282005.dat\n",
      "AL282020.dat\n",
      "AL292020.dat\n",
      "AL312020.dat\n"
     ]
    }
   ],
   "source": [
    "for archivo in lista.to_numpy():\n",
    "    print(archivo[0])"
   ]
  },
  {
   "cell_type": "code",
   "execution_count": 60,
   "id": "54c9863d",
   "metadata": {},
   "outputs": [],
   "source": [
    "def formato_fecha(df1):\n",
    "    df = pd.to_datetime(df1['date'], format='%Y%m%d').apply(lambda x: pd.Series([x.year,x.month,x.day], index = ['yy', 'mm', 'dd']))\n",
    "    return pd.concat([df,df1], axis = 1)\n",
    "def formato_hora(df):\n",
    "    return df.assign(time = (df['time']/100).astype(int))"
   ]
  },
  {
   "cell_type": "code",
   "execution_count": 68,
   "id": "416480d5",
   "metadata": {},
   "outputs": [],
   "source": [
    "def cambiar_sufijos(lon1):\n",
    "    if lon1[-1] == 'W':\n",
    "        lon1 = lon1.replace(\"W\",\"\")\n",
    "        lon1 = float(lon1) * -1\n",
    "    else:\n",
    "        lon1 = lon1.replace(\"E\",\"\").replace(\"N\",\"\")\n",
    "        lon1 = float(lon1)\n",
    "    return lon1"
   ]
  },
  {
   "cell_type": "code",
   "execution_count": 61,
   "id": "cfe5eb9c",
   "metadata": {},
   "outputs": [],
   "source": [
    "data = data_lec('D:/S7/'+cuenca,'AL012010.dat')"
   ]
  },
  {
   "cell_type": "code",
   "execution_count": 205,
   "id": "f6d03769",
   "metadata": {},
   "outputs": [],
   "source": [
    "TC = (data\n",
    "     .pipe(formato_fecha)\n",
    "     .pipe(formato_hora)\n",
    "     .assign(lon = data.lon.apply(lambda lon: cambiar_sufijos(lon)))\n",
    "     .assign(lat = data.lat.apply(lambda lat: cambiar_sufijos(lat)))\n",
    "     .drop(columns = ['MWS','CPSL','ERMWS','R50','R64','R100'])\n",
    "     )\n",
    "TC_concat = TC.copy()"
   ]
  },
  {
   "cell_type": "code",
   "execution_count": 206,
   "id": "f96d3801",
   "metadata": {},
   "outputs": [],
   "source": [
    "timestamp = (TC_concat[['yy','mm','dd','time']]\n",
    "             .astype('str')\n",
    "             .apply(lambda x: x[0]+ x[1].zfill(2) + x[2].zfill(2) + x[3].zfill(2), axis = 1))\n",
    "center_position = TC_concat[['lon','lat']].apply(lambda x: [x[0],x[1]], axis = 1)"
   ]
  },
  {
   "cell_type": "code",
   "execution_count": 207,
   "id": "8e0e98cc",
   "metadata": {},
   "outputs": [],
   "source": [
    "TC_concat = TC_concat.assign(timestamp = timestamp).assign(center_position = center_position)"
   ]
  },
  {
   "cell_type": "code",
   "execution_count": 208,
   "id": "9e77b0e8",
   "metadata": {},
   "outputs": [],
   "source": [
    "# LEER IMAGEN \n",
    "def abrir_imagen(timestamp):\n",
    "    ir_image = nc.Dataset('D:/IR/merg_'+ timestamp +'_4km-pixel.nc4.nc4')\n",
    "    return np.array(ir_image.variables['Tb'][0,:,:] - 273.15)"
   ]
  },
  {
   "cell_type": "code",
   "execution_count": 209,
   "id": "3e659725",
   "metadata": {},
   "outputs": [],
   "source": [
    "IR_img = abrir_imagen(TC_concat.timestamp[0])"
   ]
  },
  {
   "cell_type": "code",
   "execution_count": 210,
   "id": "9a0eaf8d",
   "metadata": {},
   "outputs": [],
   "source": [
    "pic1 = IR_img.copy()"
   ]
  },
  {
   "cell_type": "code",
   "execution_count": 211,
   "id": "7ea4367e",
   "metadata": {},
   "outputs": [],
   "source": [
    "def correccion_valor_minimo(image):\n",
    "    temp_min = np.min(image[np.where(image != np.min(image))])\n",
    "    image[np.where(image == np.min(image))] = temp_min - 1\n",
    "    return image "
   ]
  },
  {
   "cell_type": "code",
   "execution_count": 212,
   "id": "ba9db752",
   "metadata": {},
   "outputs": [],
   "source": [
    "IR_img_corregida = correccion_valor_minimo(pic1)"
   ]
  },
  {
   "cell_type": "code",
   "execution_count": 213,
   "id": "deeea010",
   "metadata": {},
   "outputs": [],
   "source": [
    "# SEGMENTACION DE IMAGEN \n",
    "def binarizar_imagen(img, umbral: float):\n",
    "    imagen = img.copy()\n",
    "    pixel_mayor_umbral = np.where(imagen>umbral)\n",
    "    pixel_valor_nulo = np.where(imagen == np.min(imagen))\n",
    "    imagen[pixel_mayor_umbral or pixel_valor_nulo] = 0\n",
    "    pixel_valido = np.where(imagen != 0)\n",
    "    imagen[pixel_valido] = 255\n",
    "    return imagen"
   ]
  },
  {
   "cell_type": "code",
   "execution_count": 214,
   "id": "e51b7a25",
   "metadata": {},
   "outputs": [],
   "source": [
    "IR_img_binarizada = binarizar_imagen(IR_img_corregida, -40)\n",
    "# np.unique(IR_img_binarizada)"
   ]
  },
  {
   "cell_type": "code",
   "execution_count": 215,
   "id": "959e77f4",
   "metadata": {},
   "outputs": [],
   "source": [
    "def crear_circulo(centro, radio):\n",
    "    angulo = np.arange(0,np.pi*2,0.01)\n",
    "    coor_x = radio*np.cos(angulo)+centro[0]\n",
    "    coor_y = radio*np.sin(angulo)+centro[1]\n",
    "    return (coor_x,coor_y)"
   ]
  },
  {
   "cell_type": "code",
   "execution_count": 217,
   "id": "401d8031",
   "metadata": {},
   "outputs": [],
   "source": [
    "contorno_campo_vientos = crear_circulo(TC_concat.center_position[0],TC_concat.R[0]/111.1)"
   ]
  },
  {
   "cell_type": "code",
   "execution_count": 218,
   "id": "33df59f6",
   "metadata": {},
   "outputs": [],
   "source": [
    "def poligono_circulo(coordenadas): \n",
    "    return Polygon(list(zip(coordenadas[0],coordenadas[1])))"
   ]
  },
  {
   "cell_type": "code",
   "execution_count": 219,
   "id": "178e02af",
   "metadata": {},
   "outputs": [],
   "source": [
    "poligono_campo_vientos = poligono_circulo(contorno_campo_vientos)"
   ]
  },
  {
   "cell_type": "markdown",
   "id": "37fd0658",
   "metadata": {},
   "source": [
    "seg = IR_img_binarizada.copy()\n",
    "(contornos,_) = cv2.findContours(np.uint8(seg), cv2.RETR_EXTERNAL, cv2.CHAIN_APPROX_SIMPLE)\n",
    "long = []\n",
    "for ii in contornos:\n",
    "    long.append(len(ii))\n",
    "long= np.array(long)\n",
    "indx = np.where(long>10)\n",
    "\n",
    "contorN = []\n",
    "for ij in indx[0]:\n",
    "    contorN.append(contornos[ij])\n",
    "\n",
    "#ARREGLO MATRICIAL DE LOS CONTONRNOS\n",
    "nubM = []\n",
    "\n",
    "for k in range(len(contorN)):\n",
    "    N = len(contorN[k])\n",
    "    L = np.zeros((N,2 ))\n",
    "    for ik in range(N):\n",
    "        L[ik,:]= contorN[k][ik][0]\n",
    "    nubM.append(L)\n",
    "if len(nubM) == 1:\n",
    "    nubM = nubM\n",
    "else:\n",
    "    nubM = np.array(nubM,dtype=object)\n",
    "    \n"
   ]
  },
  {
   "cell_type": "markdown",
   "id": "25135dee",
   "metadata": {},
   "source": [
    "nubM"
   ]
  },
  {
   "cell_type": "code",
   "execution_count": 300,
   "id": "7ef000e8",
   "metadata": {},
   "outputs": [],
   "source": [
    "(contornos,_) = cv2.findContours(np.uint8(IR_img_binarizada), cv2.RETR_EXTERNAL, cv2.CHAIN_APPROX_SIMPLE)"
   ]
  },
  {
   "cell_type": "code",
   "execution_count": 301,
   "id": "a9735ee9",
   "metadata": {},
   "outputs": [],
   "source": [
    "np.warnings.filterwarnings('ignore', category=np.VisibleDeprecationWarning)\n",
    "df_contornos = pd.DataFrame(contornos, columns = ['array'])"
   ]
  },
  {
   "cell_type": "code",
   "execution_count": 302,
   "id": "c13009b9",
   "metadata": {},
   "outputs": [],
   "source": [
    "df_contornos['len'] = df_contornos.array.apply(lambda x: len(x))"
   ]
  },
  {
   "cell_type": "code",
   "execution_count": 303,
   "id": "95bfbfeb",
   "metadata": {},
   "outputs": [],
   "source": [
    "df_contornos_sel = df_contornos[df_contornos.len > 10]"
   ]
  },
  {
   "cell_type": "code",
   "execution_count": 304,
   "id": "fffa1bfc",
   "metadata": {},
   "outputs": [],
   "source": [
    "def contornos_numpy(array):\n",
    "    nubM = []\n",
    "    for c in array: nubM.append(c[0].tolist())\n",
    "    return np.array(nubM)"
   ]
  },
  {
   "cell_type": "code",
   "execution_count": 345,
   "id": "2bd6efa6",
   "metadata": {},
   "outputs": [],
   "source": [
    "# contornos_umbral = df_contornos_sel.array.apply(lambda x: contornos_numpy(x))"
   ]
  },
  {
   "cell_type": "code",
   "execution_count": 329,
   "id": "c75f2882",
   "metadata": {},
   "outputs": [],
   "source": [
    "selcon = df_contornos_sel.array.apply(lambda x: contornos_numpy(x)).to_frame(name = 'geometry')"
   ]
  },
  {
   "cell_type": "code",
   "execution_count": 332,
   "id": "6691d810",
   "metadata": {},
   "outputs": [],
   "source": [
    "def convcoor(nube, dlat= 0.036388397, dlon = 0.036392212):\n",
    "    lonc1 = np.round(np.transpose(((dlon*nube[:,0])-130)),2)\n",
    "    latc1 = np.round((dlat*nube[:,1]),2)\n",
    "    return list(zip(lonc1,latc1))"
   ]
  },
  {
   "cell_type": "code",
   "execution_count": 334,
   "id": "a71c8c10",
   "metadata": {},
   "outputs": [],
   "source": [
    "selcon['geometry'] = selcon['geometry'].apply(convcoor).apply(Polygon)\n",
    "selcon = gpd.GeoDataFrame(selcon,geometry='geometry',crs='EPSG:4326')"
   ]
  },
  {
   "cell_type": "code",
   "execution_count": 346,
   "id": "291b22b5",
   "metadata": {},
   "outputs": [],
   "source": [
    "contornos_dentro_campo_vientos = selcon[selcon['geometry'].apply(lambda nube: nube.intersects(poligono_campo_vientos))]"
   ]
  },
  {
   "cell_type": "code",
   "execution_count": 347,
   "id": "dc09dcf2",
   "metadata": {},
   "outputs": [],
   "source": [
    "def correccion_por_df_vacio(df):\n",
    "    if df.empty:\n",
    "        df['geometry'] = None\n",
    "        df['ID']= (np.ones(df.shape[0])*i).astype(int)\n",
    "        return df\n",
    "    else:\n",
    "        result = rectificacion(df,ctpos,data['R'][i]/111.1)\n",
    "        result['ID']= (np.ones(result.shape[0])*i).astype(int)\n",
    "        result = gdf_explode(result)\n",
    "        indx = result['geometry'].apply(lambda nube: nube.intersects(polyar))\n",
    "        return result[indx]"
   ]
  },
  {
   "cell_type": "code",
   "execution_count": null,
   "id": "69a4bd04",
   "metadata": {},
   "outputs": [],
   "source": [
    "correccion_por_df_vacio(selcon)"
   ]
  },
  {
   "cell_type": "code",
   "execution_count": null,
   "id": "313af6f0",
   "metadata": {},
   "outputs": [],
   "source": [
    "# PROCEDE LA RECTIFICACION DE LOS DATOS \n",
    "def rectificacion(selcon,ctpos,r):\n",
    "    \"\"\" Función que aplica un filtro en forma de castillo para poder quitar interacciones\n",
    "    de los cumulos con la ZCIT (considerada por debajo de los 15°N). Los parametros de\n",
    "    entrada representan los siguientes datos:\n",
    "    selcon = contornos seleccionados\n",
    "    ctpos = posicion del centro de la tormenta tomada de HURDAT\n",
    "    r = es el radio ROUT en grados\n",
    "\n",
    "    El resultado de la función representa la selección filtrada si el area del ROUT está\n",
    "    interactuando con el area designada del ZCIT o deja los contornos intactos si no existe\n",
    "    interacción teorica con el ZCIT\"\"\"\n",
    "    ar = circulo(ctpos,r)\n",
    "    polyar = Polygon(list(zip(ar[0],ar[1])))\n",
    "    rec_inf = Polygon([(-130,0),(-130,15),(-10,15),(-10,0)]) #itcz\n",
    "    a = rec_inf.intersects(polyar)\n",
    "    pol_cast = Polygon([(-130,0),(-130,15),(ctpos[0]-r,15),(ctpos[0]-r,ctpos[1]-r),\n",
    "                        (ctpos[0]+r,ctpos[1]-r),(ctpos[0]+r,15),(-10,15),(-10,0)])\n",
    "    pol_cast = gpd.GeoDataFrame(index=[0], crs='EPSG:4326', geometry=[pol_cast])\n",
    "    if a == True:\n",
    "        filtro2 = gpd.overlay(selcon, pol_cast, how='difference')\n",
    "        return filtro2\n",
    "    else:\n",
    "        if ctpos[1] > 15:\n",
    "            pol_cast = Polygon([(-130,0),(-130,15.1),(ctpos[0]-r,15.1),(ctpos[0]-r,ctpos[1]-r),\n",
    "                        (ctpos[0]+r,ctpos[1]-r),(ctpos[0]+r,15.1),(-10,15.1),(-10,0)])\n",
    "            pol_cast = gpd.GeoDataFrame(index=[0], crs='EPSG:4326', geometry=[pol_cast])\n",
    "            filtro2 = gpd.overlay(selcon, pol_cast, how='difference')\n",
    "            return filtro2\n",
    "        else:\n",
    "            return selcon"
   ]
  },
  {
   "cell_type": "code",
   "execution_count": null,
   "id": "629199b8",
   "metadata": {},
   "outputs": [],
   "source": []
  },
  {
   "cell_type": "code",
   "execution_count": 74,
   "id": "63dacce6",
   "metadata": {},
   "outputs": [],
   "source": [
    "def df_to_gdf():\n",
    "    return gpd.GeoDataFrame(columns = ['geometry', 'ID'], crs = 'epsg:4326')"
   ]
  },
  {
   "cell_type": "code",
   "execution_count": null,
   "id": "e88fb7a0",
   "metadata": {},
   "outputs": [],
   "source": [
    "def process_imagen(data,i,umbral):\n",
    "\n",
    "\n",
    "    if selcon.empty:\n",
    "        selcon['geometry'] = None\n",
    "        selcon['ID']= (np.ones(selcon.shape[0])*i).astype(int)\n",
    "        return selcon\n",
    "    else:\n",
    "        result = rectificacion(selcon,ctpos,data['R'][i]/111.1)\n",
    "        result['ID']= (np.ones(result.shape[0])*i).astype(int)\n",
    "        result = gdf_explode(result)\n",
    "        indx = result['geometry'].apply(lambda nube: nube.intersects(polyar))\n",
    "        return result[indx]\n"
   ]
  },
  {
   "cell_type": "code",
   "execution_count": 73,
   "id": "d8d97d74",
   "metadata": {},
   "outputs": [
    {
     "data": {
      "text/html": [
       "<div>\n",
       "<style scoped>\n",
       "    .dataframe tbody tr th:only-of-type {\n",
       "        vertical-align: middle;\n",
       "    }\n",
       "\n",
       "    .dataframe tbody tr th {\n",
       "        vertical-align: top;\n",
       "    }\n",
       "\n",
       "    .dataframe thead th {\n",
       "        text-align: right;\n",
       "    }\n",
       "</style>\n",
       "<table border=\"1\" class=\"dataframe\">\n",
       "  <thead>\n",
       "    <tr style=\"text-align: right;\">\n",
       "      <th></th>\n",
       "      <th>geometry</th>\n",
       "      <th>ID</th>\n",
       "    </tr>\n",
       "  </thead>\n",
       "  <tbody>\n",
       "  </tbody>\n",
       "</table>\n",
       "</div>"
      ],
      "text/plain": [
       "Empty GeoDataFrame\n",
       "Columns: [geometry, ID]\n",
       "Index: []"
      ]
     },
     "execution_count": 73,
     "metadata": {},
     "output_type": "execute_result"
    }
   ],
   "source": [
    "for i in range(len(TC)):\n",
    "    imapru = correc(lec_imag(data,i))\n",
    "    seg40 = bina(imapru,umbral)\n",
    "    ctpos = [data['lon'][i],data['lat'][i]]\n",
    "    ar = circulo(ctpos,data['R'][i]/111.1)\n",
    "    polyar = Polygon(list(zip(ar[0],ar[1])))\n",
    "    con40 = contornos(seg40)\n",
    "    selcon = filtcloud(con40,polyar)\n",
    "    \n",
    "    \n",
    "    \n",
    "    \n",
    "    \n",
    "    data_base = pd.concat([data_base, result], axis=0).reset_index(drop=True)\n",
    "    data_base['area'] = data_base['geometry'].apply(areapoly)\n",
    "    polygons = data_base.loc[data_base['area']>= 800].reset_index(drop= True)"
   ]
  },
  {
   "cell_type": "code",
   "execution_count": null,
   "id": "46720b15",
   "metadata": {},
   "outputs": [],
   "source": [
    "def cal_pol(data):\n",
    "    \"\"\"\n",
    "    Función para calcular los poligonos de las imagenes IR de cada ciclón\n",
    "    tropical, requiere la información de entrada de Perez-Alarcon et al. 2021.\n",
    "    Retorna la información de los polygonos que tienen una tempertarura\n",
    "    de brillo mayor a -40°C de umbral.\n",
    "\n",
    "    Dichos poligonos tienen una mejora en la selección de poligonos con area\n",
    "    mayor a 10 pixeles, considerando que cada pixel tiene una resolución\n",
    "    de 4km x 4km, por lo que debe ser mayor a 160 km2\n",
    "    \"\"\"\n",
    "    data_base = gpd.GeoDataFrame(columns = ['geometry', 'ID'],\n",
    "                                 crs = 'epsg:4326')\n",
    "    for i in range(len(data)):\n",
    "        result = process_imagen(data,i,-40)\n",
    "        data_base = pd.concat([data_base, result],\n",
    "                              axis=0).reset_index(drop=True)\n",
    "    data_base['area'] = data_base['geometry'].apply(areapoly)\n",
    "    polygons = data_base.loc[data_base['area']>= 800].reset_index(drop= True)\n",
    "    return polygons"
   ]
  }
 ],
 "metadata": {
  "kernelspec": {
   "display_name": "Python 3 (ipykernel)",
   "language": "python",
   "name": "python3"
  },
  "language_info": {
   "codemirror_mode": {
    "name": "ipython",
    "version": 3
   },
   "file_extension": ".py",
   "mimetype": "text/x-python",
   "name": "python",
   "nbconvert_exporter": "python",
   "pygments_lexer": "ipython3",
   "version": "3.9.7"
  }
 },
 "nbformat": 4,
 "nbformat_minor": 5
}
